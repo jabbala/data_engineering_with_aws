{
 "cells": [
  {
   "cell_type": "markdown",
   "metadata": {},
   "source": [
    "# Part I. ETL Pipeline for Pre-Processing the Files"
   ]
  },
  {
   "cell_type": "markdown",
   "metadata": {},
   "source": [
    "## PLEASE RUN THE FOLLOWING CODE FOR PRE-PROCESSING THE FILES"
   ]
  },
  {
   "cell_type": "markdown",
   "metadata": {},
   "source": [
    "#### Import Python packages "
   ]
  },
  {
   "cell_type": "code",
   "execution_count": 1,
   "metadata": {},
   "outputs": [
    {
     "name": "stdout",
     "output_type": "stream",
     "text": [
      "Requirement already satisfied: tabulate in /opt/conda/lib/python3.6/site-packages (0.8.10)\r\n"
     ]
    }
   ],
   "source": [
    "!pip install tabulate # https://stackoverflow.com/questions/18528533/pretty-printing-a-pandas-dataframe"
   ]
  },
  {
   "cell_type": "code",
   "execution_count": 2,
   "metadata": {},
   "outputs": [],
   "source": [
    "# Import Python packages \n",
    "import pandas as pd\n",
    "import cassandra\n",
    "import re\n",
    "import os\n",
    "import glob\n",
    "import numpy as np\n",
    "import json\n",
    "import csv\n",
    "from tabulate import tabulate"
   ]
  },
  {
   "cell_type": "markdown",
   "metadata": {},
   "source": [
    "#### Creating list of filepaths to process original event csv data files"
   ]
  },
  {
   "cell_type": "code",
   "execution_count": 3,
   "metadata": {},
   "outputs": [
    {
     "name": "stdout",
     "output_type": "stream",
     "text": [
      "/workspace/home\n"
     ]
    }
   ],
   "source": [
    "# checking your current working directory\n",
    "print(os.getcwd())\n",
    "\n",
    "# Get your current folder and subfolder event data\n",
    "filepath = os.getcwd() + '/event_data'\n",
    "\n",
    "# Create a for loop to create a list of files and collect each filepath\n",
    "for root, dirs, files in os.walk(filepath):\n",
    "    \n",
    "# join the file path and roots with the subdirectories using glob\n",
    "    file_path_list = glob.glob(os.path.join(root,'*'))\n",
    "    #print(file_path_list)"
   ]
  },
  {
   "cell_type": "markdown",
   "metadata": {},
   "source": [
    "#### Processing the files to create the data file csv that will be used for Apache Casssandra tables"
   ]
  },
  {
   "cell_type": "code",
   "execution_count": 4,
   "metadata": {},
   "outputs": [],
   "source": [
    "# initiating an empty list of rows that will be generated from each file\n",
    "full_data_rows_list = [] \n",
    "    \n",
    "# for every filepath in the file path list \n",
    "for f in file_path_list:\n",
    "\n",
    "# reading csv file \n",
    "    with open(f, 'r', encoding = 'utf8', newline='') as csvfile: \n",
    "        # creating a csv reader object \n",
    "        csvreader = csv.reader(csvfile) \n",
    "        next(csvreader)\n",
    "        \n",
    " # extracting each data row one by one and append it        \n",
    "        for line in csvreader:\n",
    "            #print(line)\n",
    "            full_data_rows_list.append(line) \n",
    "            \n",
    "# uncomment the code below if you would like to get total number of rows \n",
    "#print(len(full_data_rows_list))\n",
    "# uncomment the code below if you would like to check to see what the list of event data rows will look like\n",
    "#print(full_data_rows_list)\n",
    "\n",
    "# creating a smaller event data csv file called event_datafile_full csv that will be used to insert data into the \\\n",
    "# Apache Cassandra tables\n",
    "csv.register_dialect('myDialect', quoting=csv.QUOTE_ALL, skipinitialspace=True)\n",
    "\n",
    "with open('event_datafile_new.csv', 'w', encoding = 'utf8', newline='') as f:\n",
    "    writer = csv.writer(f, dialect='myDialect')\n",
    "    writer.writerow(['artist','firstName','gender','itemInSession','lastName','length',\\\n",
    "                'level','location','sessionId','song','userId'])\n",
    "    for row in full_data_rows_list:\n",
    "        if (row[0] == ''):\n",
    "            continue\n",
    "        writer.writerow((row[0], row[2], row[3], row[4], row[5], row[6], row[7], row[8], row[12], row[13], row[16]))\n"
   ]
  },
  {
   "cell_type": "code",
   "execution_count": 5,
   "metadata": {},
   "outputs": [
    {
     "name": "stdout",
     "output_type": "stream",
     "text": [
      "6821\n"
     ]
    }
   ],
   "source": [
    "# check the number of rows in your csv file\n",
    "with open('event_datafile_new.csv', 'r', encoding = 'utf8') as f:\n",
    "    print(sum(1 for line in f))"
   ]
  },
  {
   "cell_type": "markdown",
   "metadata": {},
   "source": [
    "# Part II. Complete the Apache Cassandra coding portion of your project. \n",
    "\n",
    "## Now you are ready to work with the CSV file titled <font color=red>event_datafile_new.csv</font>, located within the Workspace directory.  The event_datafile_new.csv contains the following columns: \n",
    "- artist \n",
    "- firstName of user\n",
    "- gender of user\n",
    "- item number in session\n",
    "- last name of user\n",
    "- length of the song\n",
    "- level (paid or free song)\n",
    "- location of the user\n",
    "- sessionId\n",
    "- song title\n",
    "- userId\n",
    "\n",
    "The image below is a screenshot of what the denormalized data should appear like in the <font color=red>**event_datafile_new.csv**</font> after the code above is run:<br>\n",
    "\n",
    "<img src=\"images/image_event_datafile_new.jpg\">"
   ]
  },
  {
   "cell_type": "markdown",
   "metadata": {},
   "source": [
    "## Begin writing your Apache Cassandra code in the cells below"
   ]
  },
  {
   "cell_type": "markdown",
   "metadata": {},
   "source": [
    "#### Creating a Cluster"
   ]
  },
  {
   "cell_type": "code",
   "execution_count": 6,
   "metadata": {},
   "outputs": [],
   "source": [
    "# This should make a connection to a Cassandra instance your local machine \n",
    "# (127.0.0.1)\n",
    "\n",
    "from cassandra.cluster import Cluster\n",
    "cluster = Cluster()\n",
    "\n",
    "# To establish connection and begin executing queries, need a session\n",
    "session = cluster.connect()"
   ]
  },
  {
   "cell_type": "markdown",
   "metadata": {},
   "source": [
    "#### Create Keyspace"
   ]
  },
  {
   "cell_type": "code",
   "execution_count": 7,
   "metadata": {},
   "outputs": [
    {
     "name": "stdout",
     "output_type": "stream",
     "text": [
      "KEYSPACE is created successfully!\n"
     ]
    }
   ],
   "source": [
    "# COMPLETED: Create a Keyspace \n",
    "try:\n",
    "    session.execute(\"\"\"\n",
    "        CREATE KEYSPACE IF NOT EXISTS udacity\n",
    "        WITH REPLICATION = {\n",
    "            'class': 'SimpleStrategy',\n",
    "            'replication_factor':1\n",
    "        }\n",
    "    \"\"\")\n",
    "except Exception as e:\n",
    "    print(e)\n",
    "\n",
    "print(\"KEYSPACE is created successfully!\")"
   ]
  },
  {
   "cell_type": "markdown",
   "metadata": {},
   "source": [
    "#### Set Keyspace"
   ]
  },
  {
   "cell_type": "code",
   "execution_count": 8,
   "metadata": {},
   "outputs": [
    {
     "name": "stdout",
     "output_type": "stream",
     "text": [
      "Session is now open with udacity keyspace, are now availble for query execution\n",
      "Done!\n"
     ]
    }
   ],
   "source": [
    "# COMPLETED: Set KEYSPACE to the keyspace specified above\n",
    "try:\n",
    "    session.set_keyspace(\"udacity\")\n",
    "    print(\"Session is now open with udacity keyspace, are now availble for query execution\")\n",
    "except Exception as e:\n",
    "    print(e)\n",
    "print(\"Done!\")"
   ]
  },
  {
   "cell_type": "markdown",
   "metadata": {},
   "source": [
    "### Now we need to create tables to run the following queries. Remember, with Apache Cassandra you model the database tables on the queries you want to run."
   ]
  },
  {
   "cell_type": "markdown",
   "metadata": {},
   "source": [
    "## Create queries to ask the following three questions of the data\n",
    "\n",
    "### 1. Give me the artist, song title and song's length in the music app history that was heard during  sessionId = 338, and itemInSession  = 4\n",
    "\n",
    "\n",
    "### 2. Give me only the following: name of artist, song (sorted by itemInSession) and user (first and last name) for userid = 10, sessionid = 182\n",
    "    \n",
    "\n",
    "### 3. Give me every user name (first and last) in my music app history who listened to the song 'All Hands Against His Own'\n",
    "\n",
    "\n"
   ]
  },
  {
   "cell_type": "code",
   "execution_count": 9,
   "metadata": {},
   "outputs": [
    {
     "name": "stdout",
     "output_type": "stream",
     "text": [
      "Table has been created successfully!\n",
      "[]\n"
     ]
    }
   ],
   "source": [
    "## COMPLETED: Query 1:  Give me the artist, song title and song's length in the music app history that was heard during \\\n",
    "## sessionId = 338, and itemInSession = 4\n",
    "query = \"\"\"CREATE TABLE IF NOT EXISTS song_info_by_session ( \n",
    "        session_id int, \n",
    "        item_in_session int, \n",
    "        artist_name text, \n",
    "        song_title text, \n",
    "        song_length float, \n",
    "        PRIMARY KEY(session_id, item_in_session)\n",
    "    )\"\"\"\n",
    "try:\n",
    "    rows = session.execute(query)\n",
    "    print(\"Table has been created successfully!\")\n",
    "except Exception as e:\n",
    "    print(e)\n",
    "    \n",
    "#print(type(rows._current_rows))\n",
    "print(rows.current_rows)                    "
   ]
  },
  {
   "cell_type": "markdown",
   "metadata": {},
   "source": [
    "For table streaming_song_info `session_id` is the partition key and `item_in_session` is used as clustering column to help make up a unique key and the queries will filter by these columns"
   ]
  },
  {
   "cell_type": "code",
   "execution_count": 10,
   "metadata": {
    "scrolled": false
   },
   "outputs": [
    {
     "name": "stdout",
     "output_type": "stream",
     "text": [
      "Totally,6820 records are inserted successfully!,\n"
     ]
    }
   ],
   "source": [
    "# We have provided part of the code to set up the CSV file. Please complete the Apache Cassandra code below#\n",
    "file = 'event_datafile_new.csv'\n",
    "count = 0\n",
    "with open(file, encoding = 'utf8') as f:\n",
    "    csvreader = csv.reader(f)\n",
    "    next(csvreader) # skip header\n",
    "    for line in csvreader:\n",
    "## COMPLETED: Assign the INSERT statements into the `query` variable\n",
    "        query = \"\"\"INSERT \n",
    "                    INTO \n",
    "                    song_info_by_session (\n",
    "                        session_id, \n",
    "                        item_in_session, \n",
    "                        artist_name, \n",
    "                        song_title, \n",
    "                        song_length\n",
    "                    )\"\"\"\n",
    "        query = query + \" VALUES (%s, %s, %s, %s, %s)\"\n",
    "        ## COMPLETED: Assign which column element should be assigned for each column in the INSERT statement.\n",
    "        ## For e.g., to INSERT artist_name and user first_name, you would change the code below to `line[0], line[1]`\n",
    "        session.execute(query, (int(line[8]), int(line[3]), line[0], line[9], float(line[5])))\n",
    "        count+=1\n",
    "\n",
    "print(f\"Totally,{count} records are inserted successfully!,\")"
   ]
  },
  {
   "cell_type": "markdown",
   "metadata": {},
   "source": [
    "#### Do a SELECT to verify that the data have been inserted into each table"
   ]
  },
  {
   "cell_type": "code",
   "execution_count": 11,
   "metadata": {
    "scrolled": true
   },
   "outputs": [
    {
     "name": "stdout",
     "output_type": "stream",
     "text": [
      "Query executed successfully\n",
      "+----+---------------+---------------------------------+---------------+\n",
      "|    | artist_name   | song_title                      |   song_length |\n",
      "|----+---------------+---------------------------------+---------------|\n",
      "|  0 | Faithless     | Music Matters (Mark Knight Dub) |       495.307 |\n",
      "+----+---------------+---------------------------------+---------------+\n"
     ]
    }
   ],
   "source": [
    "## COMPLETED: Add in the SELECT statement to verify the data was entered into the table\n",
    "query = \"\"\"SELECT \n",
    "            artist_name, \n",
    "            song_title, \n",
    "            song_length \n",
    "        FROM song_info_by_session \n",
    "        WHERE session_id=338 \n",
    "        AND item_in_session=4\"\"\"\n",
    "try:\n",
    "    rows = session.execute(query)\n",
    "    print(\"Query executed successfully\")\n",
    "except Exception as e:\n",
    "    print(e)\n",
    "df = pd.DataFrame(rows._current_rows)\n",
    "assert len(df) == 1 # Assertion is true, as there is only one record exist in the table, matching the given conditions\n",
    "print(tabulate(df, headers='keys', tablefmt='psql'))"
   ]
  },
  {
   "cell_type": "markdown",
   "metadata": {},
   "source": [
    "### COPY AND REPEAT THE ABOVE THREE CELLS FOR EACH OF THE THREE QUESTIONS"
   ]
  },
  {
   "cell_type": "markdown",
   "metadata": {},
   "source": [
    "#### Query 2: Give me only the following: name of artist, song (sorted by itemInSession) and user (first and last name) for userid = 10, sessionid = 182"
   ]
  },
  {
   "cell_type": "code",
   "execution_count": 12,
   "metadata": {},
   "outputs": [
    {
     "name": "stdout",
     "output_type": "stream",
     "text": [
      "Users table created successully!\n"
     ]
    }
   ],
   "source": [
    "## COMPLETED: Query 2: Give me only the following: name of artist, song (sorted by itemInSession) and user (first and last name)\\\n",
    "## for userid = 10, sessionid = 182\n",
    "try:\n",
    "    session.execute(\"\"\"\n",
    "        CREATE TABLE IF NOT EXISTS user_info_by_id_and_session (\n",
    "            user_id INT,\n",
    "            session_id INT,\n",
    "            item_in_session INT,\n",
    "            artist_name TEXT,\n",
    "            song_title TEXT,\n",
    "            first_name TEXT,\n",
    "            last_name TEXT,\n",
    "            PRIMARY KEY ((user_id, session_id), item_in_session)\n",
    "        )\n",
    "    \"\"\")\n",
    "    print(\"Users table created successully!\")\n",
    "except Exception as error:\n",
    "    print(error) \n",
    "\n",
    "          "
   ]
  },
  {
   "cell_type": "markdown",
   "metadata": {},
   "source": [
    "For table `user`, the `user_id` and `session_id` are used as composite partition key because the queries will filter by these columns and `item_in_session` is used as clustering column to help make up a unique key."
   ]
  },
  {
   "cell_type": "code",
   "execution_count": 13,
   "metadata": {},
   "outputs": [
    {
     "name": "stdout",
     "output_type": "stream",
     "text": [
      "Totally 6820 records inserted\n"
     ]
    }
   ],
   "source": [
    "file = 'event_datafile_new.csv'\n",
    "count = 0\n",
    "with open(file, encoding = 'utf8') as f:\n",
    "    csvreader = csv.reader(f)\n",
    "    next(csvreader) # skip header\n",
    "    for line in csvreader:\n",
    "        query = \"\"\"INSERT \n",
    "                    INTO user_info_by_id_and_session (\n",
    "                        user_id, \n",
    "                        session_id, \n",
    "                        item_in_session, \n",
    "                        artist_name, \n",
    "                        song_title, \n",
    "                        first_name, \n",
    "                        last_name\n",
    "                    )\"\"\"\n",
    "        query = query + \"\"\"VALUES (%s, %s, %s, %s, %s, %s, %s)\"\"\"\n",
    "        session.execute(query, (int(line[10]), int(line[8]), int(line[3]), line[0], line[9], line[1], line[4]))\n",
    "        count+=1\n",
    "print(f\"Totally {count} records inserted\")"
   ]
  },
  {
   "cell_type": "code",
   "execution_count": 14,
   "metadata": {},
   "outputs": [
    {
     "name": "stdout",
     "output_type": "stream",
     "text": [
      "Data retrieved successfully!\n",
      "+----+-------------------+------------------------------------------------------+--------------+-------------+\n",
      "|    | artist_name       | song_title                                           | first_name   | last_name   |\n",
      "|----+-------------------+------------------------------------------------------+--------------+-------------|\n",
      "|  0 | Down To The Bone  | Keep On Keepin' On                                   | Sylvie       | Cruz        |\n",
      "|  1 | Three Drives      | Greece 2000                                          | Sylvie       | Cruz        |\n",
      "|  2 | Sebastien Tellier | Kilometer                                            | Sylvie       | Cruz        |\n",
      "|  3 | Lonnie Gordon     | Catch You Baby (Steve Pitron & Max Sanna Radio Edit) | Sylvie       | Cruz        |\n",
      "+----+-------------------+------------------------------------------------------+--------------+-------------+\n"
     ]
    }
   ],
   "source": [
    "query = \"\"\"\n",
    "    SELECT \n",
    "        artist_name, \n",
    "        song_title, \n",
    "        first_name, \n",
    "        last_name \n",
    "    FROM user_info_by_id_and_session \n",
    "    WHERE user_id = 10 AND session_id = 182\n",
    "\"\"\"\n",
    "try:\n",
    "    users_results = session.execute(query)\n",
    "    print(\"Data retrieved successfully!\")\n",
    "except Exception as error:\n",
    "    print(error)\n",
    "\n",
    "df = pd.DataFrame(users_results._current_rows)\n",
    "assert len(df) == 4 # user have watched 4 songs\n",
    "print(tabulate(df, headers='keys', tablefmt='psql'))"
   ]
  },
  {
   "cell_type": "markdown",
   "metadata": {},
   "source": [
    "#### Query 3: Give me every user name (first and last) in my music app history who listened to the song 'All Hands Against His Own'"
   ]
  },
  {
   "cell_type": "code",
   "execution_count": 15,
   "metadata": {},
   "outputs": [
    {
     "name": "stdout",
     "output_type": "stream",
     "text": [
      "Table has been created successfully\n"
     ]
    }
   ],
   "source": [
    "## COMPLETED: Query 3: Give me every user name (first and last) in my music app history who listened to the song 'All Hands Against His Own'\n",
    "\n",
    "try:\n",
    "    session.execute(\"\"\"\n",
    "        CREATE TABLE IF NOT EXISTS user_info_by_song (\n",
    "            song_title TEXT,\n",
    "            user_id INT,\n",
    "            first_name TEXT,\n",
    "            last_name TEXT,\n",
    "            PRIMARY KEY (song_title, user_id)\n",
    "        )\n",
    "    \"\"\")\n",
    "except Exception as error:\n",
    "    print(error)\n",
    "\n",
    "print(\"Table has been created successfully\")                    "
   ]
  },
  {
   "cell_type": "markdown",
   "metadata": {},
   "source": [
    "song_title and user_id has been used as composite partition key because the queries will filter by these columns and item_in _session is used as clustering column to help make a unique key"
   ]
  },
  {
   "cell_type": "code",
   "execution_count": 16,
   "metadata": {},
   "outputs": [
    {
     "name": "stdout",
     "output_type": "stream",
     "text": [
      "Data ingestion from CSV  file to database is completed successully!\n"
     ]
    }
   ],
   "source": [
    "file = 'event_datafile_new.csv'\n",
    "\n",
    "with open(file, encoding = 'utf8') as f:\n",
    "    csvreader = csv.reader(f)\n",
    "    next(csvreader) # skip header\n",
    "    for line in csvreader:\n",
    "        query = \"\"\"INSERT \n",
    "                    INTO user_info_by_song (\n",
    "                        song_title, \n",
    "                        user_id, \n",
    "                        first_name, \n",
    "                        last_name\n",
    "                    ) VALUES (%s, %s, %s, %s)\"\"\"\n",
    "        session.execute(query, (line[9], int(line[10]), line[1], line[4]))\n",
    "print(\"Data ingestion from CSV  file to database is completed successully!\")                    "
   ]
  },
  {
   "cell_type": "code",
   "execution_count": 17,
   "metadata": {},
   "outputs": [
    {
     "name": "stdout",
     "output_type": "stream",
     "text": [
      "+----+--------------+-------------+\n",
      "|    | first_name   | last_name   |\n",
      "|----+--------------+-------------|\n",
      "|  0 | Jacqueline   | Lynch       |\n",
      "|  1 | Tegan        | Levine      |\n",
      "|  2 | Sara         | Johnson     |\n",
      "+----+--------------+-------------+\n"
     ]
    }
   ],
   "source": [
    "query = \"\"\"\n",
    "    SELECT first_name, last_name FROM user_info_by_song \n",
    "    WHERE song_title = 'All Hands Against His Own'\n",
    "\"\"\"\n",
    "try:\n",
    "    results = session.execute(query)\n",
    "except Exception as error:\n",
    "    print(error)\n",
    "df = pd.DataFrame(results._current_rows)\n",
    "print(tabulate(df, headers='keys', tablefmt='psql')) # lists the first 5 records of the dataframe (df)."
   ]
  },
  {
   "cell_type": "markdown",
   "metadata": {},
   "source": [
    "### Drop the tables before closing out the sessions"
   ]
  },
  {
   "cell_type": "code",
   "execution_count": 18,
   "metadata": {},
   "outputs": [
    {
     "name": "stdout",
     "output_type": "stream",
     "text": [
      "Tables are successfully droped!\n"
     ]
    }
   ],
   "source": [
    "## COMPLETED: Drop the table before closing out the sessions\n",
    "try:\n",
    "    session.execute(\"DROP TABLE IF EXISTS song_info_by_session\")\n",
    "    session.execute(\"DROP TABLE IF EXISTS user_info_by_id_and_session\")\n",
    "    session.execute(\"DROP TABLE IF EXISTS user_info_by_song\")\n",
    "except Exception as error:\n",
    "    print(error)  \n",
    "    \n",
    "print(\"Tables are successfully droped!\")"
   ]
  },
  {
   "cell_type": "markdown",
   "metadata": {},
   "source": [
    "### Close the session and cluster connection¶"
   ]
  },
  {
   "cell_type": "code",
   "execution_count": 19,
   "metadata": {},
   "outputs": [
    {
     "name": "stdout",
     "output_type": "stream",
     "text": [
      "@Session is closed successfully!\n",
      "@Cluster is shutdown successfully!\n"
     ]
    }
   ],
   "source": [
    "session.shutdown()\n",
    "print(\"@Session is closed successfully!\")\n",
    "cluster.shutdown()\n",
    "print(\"@Cluster is shutdown successfully!\")"
   ]
  },
  {
   "cell_type": "code",
   "execution_count": null,
   "metadata": {},
   "outputs": [],
   "source": []
  },
  {
   "cell_type": "code",
   "execution_count": null,
   "metadata": {},
   "outputs": [],
   "source": []
  }
 ],
 "metadata": {
  "kernelspec": {
   "display_name": "Python 3",
   "language": "python",
   "name": "python3"
  },
  "language_info": {
   "codemirror_mode": {
    "name": "ipython",
    "version": 3
   },
   "file_extension": ".py",
   "mimetype": "text/x-python",
   "name": "python",
   "nbconvert_exporter": "python",
   "pygments_lexer": "ipython3",
   "version": "3.6.3"
  }
 },
 "nbformat": 4,
 "nbformat_minor": 2
}
